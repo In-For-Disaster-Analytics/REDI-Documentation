{
 "cells": [
  {
   "cell_type": "markdown",
   "metadata": {},
   "source": [
    "## Database adapters\n",
    "- `psycopg2` for PostgreSQL databases: https://www.psycopg.org/docs/usage.html\n",
    "\n",
    "- `mysql-connector-python` for MySQL databases: https://www.w3schools.com/python/python_mysql_getstarted.asp\n",
    "\n",
    "- `sqlite3` for SQLite databases: https://datacarpentry.org/python-ecology-lesson/09-working-with-sql/index.html\n",
    "\n",
    "\n",
    "### Installing `psycopg2` on TACC's JupyterHub\n",
    "In order to be able to import and use the `psycopg2` package for connecting to a database with Python, each user first needs to install the package in their own user space.\n",
    "\n",
    "Here are two options for the installation:\n",
    "\n",
    "#### 1. From Terminal\n",
    "Install `psycopg2-binary` from the Terminal before opening a Jupyter Notebook.\n",
    "\n",
    "Choose New > Terminal within Jupyter. Use `pip install` to install the package for your user:\n",
    "\n",
    "    pip install --user psycopg2-binary \n",
    "\n",
    "Once the install is complete, launch a Notebook. \n",
    "\n",
    "Otherwise, the user site directory `/home/jupyter/mydata/jupyter_packages/lib/python3.6/site-packages` won't exist yet, and won't be appended to the `sys.path` for Python to find the package (this happens even if the package is installed via the Notebook, and then an import using Python is attempted).\n",
    "\n",
    "#### 2. From Notebook\n",
    "Install `psycopg2-binary` directly from a Notebook. Within a Notebook use: \n",
    "\n",
    "    !pip install --user psycopg2-binary \n",
    "\n",
    "Then, restart the kernel. Choose the upper menu option Kernal > Restart. \n",
    "\n",
    "The restart is necessary so that Python appends the user site directory mentioned above to `sys.path`, and then package can be imported using Python. Hooray!"
   ]
  },
  {
   "cell_type": "markdown",
   "metadata": {},
   "source": [
    "### Confirming the package will be found\n",
    "Confirm that the user site directory (`/home/jupyter/mydata/jupyter_packages/lib/python3.6/site-packages`) is in `sys.path`:"
   ]
  },
  {
   "cell_type": "code",
   "execution_count": 1,
   "metadata": {
    "scrolled": false
   },
   "outputs": [
    {
     "data": {
      "text/plain": [
       "['/opt/conda/lib/python36.zip',\n",
       " '/opt/conda/lib/python3.6',\n",
       " '/opt/conda/lib/python3.6/lib-dynload',\n",
       " '',\n",
       " '/home/jupyter/mydata/jupyter_packages/lib/python3.6/site-packages',\n",
       " '/opt/conda/lib/python3.6/site-packages',\n",
       " '/opt/conda/lib/python3.6/site-packages/IPython/extensions',\n",
       " '/home/jupyter/.ipython']"
      ]
     },
     "execution_count": 1,
     "metadata": {},
     "output_type": "execute_result"
    }
   ],
   "source": [
    "import sys\n",
    "\n",
    "sys.path"
   ]
  },
  {
   "cell_type": "markdown",
   "metadata": {},
   "source": [
    "## Connecting to a PostgreSQL database\n",
    "Import useful packages (aka \"libraries\") first."
   ]
  },
  {
   "cell_type": "code",
   "execution_count": 2,
   "metadata": {},
   "outputs": [],
   "source": [
    "import psycopg2\n",
    "import pandas as pd"
   ]
  },
  {
   "cell_type": "markdown",
   "metadata": {},
   "source": [
    "Try connecting to a database."
   ]
  },
  {
   "cell_type": "code",
   "execution_count": 3,
   "metadata": {},
   "outputs": [
    {
     "name": "stdout",
     "output_type": "stream",
     "text": [
      "Success!\n"
     ]
    }
   ],
   "source": [
    "try:\n",
    "    connection = psycopg2.connect(\"dbname='pt2050_demo' user='pt2050_user' host='129.114.58.190' password='D3m0Us$r'\")\n",
    "    print(\"Success!\")\n",
    "except:\n",
    "    print(\"I am unable to connect to the database.\")"
   ]
  },
  {
   "cell_type": "markdown",
   "metadata": {},
   "source": [
    "## Performing database operations directly\n",
    "\n",
    "Open a cursor to perform database operations."
   ]
  },
  {
   "cell_type": "code",
   "execution_count": 4,
   "metadata": {},
   "outputs": [],
   "source": [
    "cursor = connection.cursor()"
   ]
  },
  {
   "cell_type": "markdown",
   "metadata": {},
   "source": [
    "Write an SQL query, execute, and fetch the results. In this case, we're seeing which tables are in the database."
   ]
  },
  {
   "cell_type": "code",
   "execution_count": 5,
   "metadata": {},
   "outputs": [
    {
     "data": {
      "text/plain": [
       "[('surveys',), ('species',)]"
      ]
     },
     "execution_count": 5,
     "metadata": {},
     "output_type": "execute_result"
    }
   ],
   "source": [
    "sql_query = '''\n",
    "SELECT table_name\n",
    "FROM information_schema.tables\n",
    "WHERE table_schema='public';\n",
    "'''\n",
    "\n",
    "cursor.execute(sql_query)\n",
    "\n",
    "cursor.fetchall()"
   ]
  },
  {
   "cell_type": "markdown",
   "metadata": {},
   "source": [
    "`cursor.fetchall()` fetches all the rows of a query result. It returns all the rows as a list of tuples. An empty list is returned if there is no record to fetch.\n",
    "\n",
    "`cursor.fetchmany(size)` returns the number of rows specified by size argument. When called repeatedly this method fetches the next set of rows of a query result and returns a list of tuples. If no more rows are available, it returns an empty list.\n",
    "\n",
    "`cursor.fetchone()` method returns a single record or None if no more rows are available."
   ]
  },
  {
   "cell_type": "markdown",
   "metadata": {},
   "source": [
    "Write an SQL query, execute, and commit. In this example, we're creating a new table."
   ]
  },
  {
   "cell_type": "code",
   "execution_count": null,
   "metadata": {},
   "outputs": [],
   "source": [
    "sql_create_table = '''\n",
    "    CREATE TABLE animal_words\n",
    "    (id INT PRIMARY KEY NOT NULL,\n",
    "    animal TEXT NOT NULL,\n",
    "    letter_count REAL);\n",
    "    '''\n",
    "    \n",
    "cursor.execute(sql_create_table)\n",
    "connection.commit()"
   ]
  },
  {
   "cell_type": "markdown",
   "metadata": {},
   "source": [
    "Insert data into a table safely by passing parameters to the SQL statement. The `cursor.execute` function will take two arguments, the SQL query and the data to insert.\n",
    "\n",
    "More details here: https://www.psycopg.org/docs/usage.html#query-parameters"
   ]
  },
  {
   "cell_type": "code",
   "execution_count": null,
   "metadata": {},
   "outputs": [],
   "source": [
    "sql_insert = \"INSERT INTO animal_words (id, animal, letter_count) VALUES (%s, %s, %s);\"\n",
    "record = (1, 'rhino', 5)\n",
    "\n",
    "cursor.execute(sql_insert, record)\n",
    "connection.commit()"
   ]
  },
  {
   "cell_type": "markdown",
   "metadata": {},
   "source": [
    "Check the table contents. In this case, we're writing the SQL query directly into the `cursor.execute` function as a string."
   ]
  },
  {
   "cell_type": "code",
   "execution_count": null,
   "metadata": {},
   "outputs": [],
   "source": [
    "cursor.execute(\"SELECT * FROM animal_words;\")\n",
    "result = cursor.fetchall()"
   ]
  },
  {
   "cell_type": "markdown",
   "metadata": {},
   "source": [
    "We also assigned the output of `cursor.fetchall` to a variable called `result`. We can call this new variable to see the output."
   ]
  },
  {
   "cell_type": "code",
   "execution_count": null,
   "metadata": {},
   "outputs": [],
   "source": [
    "result"
   ]
  },
  {
   "cell_type": "markdown",
   "metadata": {},
   "source": [
    "## Bringing data from  the database into a `pandas` DataFrame\n",
    "Write an SQL query to get data, and use `pandas` to run the query and pass the results into a DataFrame object. \n",
    "\n",
    "This way you can work with the data using Python."
   ]
  },
  {
   "cell_type": "code",
   "execution_count": null,
   "metadata": {},
   "outputs": [],
   "source": [
    "species_df = pd.read_sql_query(\n",
    "    '''\n",
    "    SELECT *\n",
    "    FROM species\n",
    "    ''',\n",
    "    connection)"
   ]
  },
  {
   "cell_type": "markdown",
   "metadata": {},
   "source": [
    "View the first 10 rows of the new `species_df` DataFrame object."
   ]
  },
  {
   "cell_type": "code",
   "execution_count": null,
   "metadata": {
    "scrolled": true
   },
   "outputs": [],
   "source": [
    "species_df.head(10)"
   ]
  },
  {
   "cell_type": "markdown",
   "metadata": {},
   "source": [
    "## Closing communication with the database"
   ]
  },
  {
   "cell_type": "code",
   "execution_count": null,
   "metadata": {},
   "outputs": [],
   "source": [
    "if(connection):\n",
    "    cursor.close()\n",
    "    connection.close()\n",
    "    print(\"The database connection is closed.\")"
   ]
  },
  {
   "cell_type": "code",
   "execution_count": null,
   "metadata": {},
   "outputs": [],
   "source": []
  }
 ],
 "metadata": {
  "kernelspec": {
   "display_name": "Python 3",
   "language": "python",
   "name": "python3"
  },
  "language_info": {
   "codemirror_mode": {
    "name": "ipython",
    "version": 3
   },
   "file_extension": ".py",
   "mimetype": "text/x-python",
   "name": "python",
   "nbconvert_exporter": "python",
   "pygments_lexer": "ipython3",
   "version": "3.6.9"
  }
 },
 "nbformat": 4,
 "nbformat_minor": 2
}
